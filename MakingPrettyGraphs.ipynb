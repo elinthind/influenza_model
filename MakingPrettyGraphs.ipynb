{
  "nbformat": 4,
  "nbformat_minor": 0,
  "metadata": {
    "colab": {
      "name": "MakingPrettyGraphs.ipynb",
      "provenance": [],
      "authorship_tag": "ABX9TyNJqAtC2s48Z8lHW4yIEZSA",
      "include_colab_link": true
    },
    "kernelspec": {
      "name": "python3",
      "display_name": "Python 3"
    },
    "language_info": {
      "name": "python"
    }
  },
  "cells": [
    {
      "cell_type": "markdown",
      "metadata": {
        "id": "view-in-github",
        "colab_type": "text"
      },
      "source": [
        "<a href=\"https://colab.research.google.com/github/elinthind/influenza_model/blob/main/MakingPrettyGraphs.ipynb\" target=\"_parent\"><img src=\"https://colab.research.google.com/assets/colab-badge.svg\" alt=\"Open In Colab\"/></a>"
      ]
    },
    {
      "cell_type": "code",
      "execution_count": null,
      "metadata": {
        "id": "RWhjBsDU1rgz"
      },
      "outputs": [],
      "source": [
        "import numpy as np\n",
        "import pandas as pd\n",
        "import matplotlib.pyplot as plt\n"
      ]
    },
    {
      "cell_type": "code",
      "source": [
        "# Import PyDrive and associated libraries.\n",
        "# This only needs to be done once per notebook.\n",
        "from pydrive.auth import GoogleAuth\n",
        "from pydrive.drive import GoogleDrive\n",
        "from google.colab import auth\n",
        "from oauth2client.client import GoogleCredentials\n",
        "\n",
        "# Authenticate and create the PyDrive client.\n",
        "# This only needs to be done once per notebook.\n",
        "auth.authenticate_user()\n",
        "gauth = GoogleAuth()\n",
        "gauth.credentials = GoogleCredentials.get_application_default()\n",
        "drive = GoogleDrive(gauth)\n",
        "\n",
        "# Download a file based on its file ID.\n",
        "#\n",
        "# A file ID looks like: laggVyWshwcyP6kEI-y_W3P8D26sz\n",
        "file_id = '1on1ujhKxIhCVXKdihVwnM3ce5ciGmj88'\n",
        "downloaded = drive.CreateFile({'id': file_id})\n",
        "# print('Downloaded content \"{}\"'.format(downloaded.GetContentString()))"
      ],
      "metadata": {
        "id": "ce8Op5g71wOr"
      },
      "execution_count": null,
      "outputs": []
    },
    {
      "cell_type": "code",
      "source": [
        "#try to get the raw downloaded file into pretty pandas thing\n",
        "file_name = 'TravelMatrix.npy'\n",
        "downloaded.GetContentFile(file_name)\n",
        "\n",
        "Array = np.load(file_name)\n"
      ],
      "metadata": {
        "id": "2_0hJLRS12mL"
      },
      "execution_count": null,
      "outputs": []
    },
    {
      "cell_type": "code",
      "source": [
        "#61.2181° N, 149.9003° W\n",
        "\n",
        "#our lats and longs go fromm 51-188\n",
        "\n",
        "Alat = 61-51\n",
        "Along = 149-51\n",
        "\n",
        "print(np.argmax(Array[Alat, Along])) #okay we're good"
      ],
      "metadata": {
        "colab": {
          "base_uri": "https://localhost:8080/"
        },
        "id": "43rJSC2A2_BV",
        "outputId": "f54448a4-d538-4ad5-8340-6500dde838b0"
      },
      "execution_count": null,
      "outputs": [
        {
          "output_type": "stream",
          "name": "stdout",
          "text": [
            "1468\n"
          ]
        }
      ]
    },
    {
      "cell_type": "code",
      "source": [
        "#this is a map of where people in anchorage work\n",
        "Anchorage = Array[:,:, Alat, Along]\n",
        "#Note: Anchorage, Anchorage is at 10, 98\n",
        "# Anchorage[10,98] = 181200\n",
        "#this is throwing off our plot bc it is so much higher than all other values\n",
        "\n",
        "Anchorage[10,98] = 1650\n",
        "\n",
        "Amask = np.ma.masked_where(Anchorage!=0, Anchorage)\n",
        "\n",
        "#potential cmaps: gist_stern, rainbow, nipy_spectral, gist_ncar, gnuplot\n",
        "plt.imshow(Anchorage, cmap = 'gnuplot')\n",
        "plt.imshow(Amask, cmap = 'binary', alpha = 0.5)\n",
        "\n",
        "plt.xlim(80,120)\n",
        "plt.ylim(25,0)\n",
        "plt.xlabel('Longitude box')\n",
        "plt.ylabel('Latitude box')\n",
        "plt.title('Workplaces of Anchorage Residents')\n",
        "plt.grid()\n",
        "plt.show()\n",
        "\n"
      ],
      "metadata": {
        "colab": {
          "base_uri": "https://localhost:8080/",
          "height": 287
        },
        "outputId": "149c7f3a-26b3-47b4-f207-d13bdb1ef55a",
        "id": "353MiOGQXeza"
      },
      "execution_count": null,
      "outputs": [
        {
          "output_type": "display_data",
          "data": {
            "image/png": "[encoded data removed]",
            "text/plain": [
              "<Figure size 432x288 with 1 Axes>"
            ]
          },
          "metadata": {
            "needs_background": "light"
          }
        }
      ]
    },
    {
      "cell_type": "code",
      "source": [
        "Anchorage[9,98]\n",
        "#=1577\n",
        "Anchorage[10,99]\n",
        "#=966\n",
        "Anchorage[10,97]\n",
        "#=732"
      ],
      "metadata": {
        "colab": {
          "base_uri": "https://localhost:8080/"
        },
        "id": "M0-_l9dbVVei",
        "outputId": "fa762030-0ba4-4224-ea86-b6162c16b7d9"
      },
      "execution_count": null,
      "outputs": [
        {
          "output_type": "execute_result",
          "data": {
            "text/plain": [
              "732.0"
            ]
          },
          "metadata": {},
          "execution_count": 6
        }
      ]
    },
    {
      "cell_type": "code",
      "source": [
        "Anchorage[Anchorage!=0]\n",
        "np.argmax(Anchorage)\n",
        "np.where(Anchorage == np.max(Anchorage))\n",
        "Anchorage[10,98]"
      ],
      "metadata": {
        "colab": {
          "base_uri": "https://localhost:8080/"
        },
        "id": "8MNgLXAlPz8h",
        "outputId": "827f47b7-42f3-4e87-8d5f-07bf7f4ab620"
      },
      "execution_count": null,
      "outputs": [
        {
          "output_type": "execute_result",
          "data": {
            "text/plain": [
              "1650.0"
            ]
          },
          "metadata": {},
          "execution_count": 7
        }
      ]
    }
  ]
}